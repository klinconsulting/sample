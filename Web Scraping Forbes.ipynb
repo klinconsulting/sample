{
 "cells": [
  {
   "cell_type": "markdown",
   "id": "ba93b560",
   "metadata": {},
   "source": [
    "## Web Scraping Example (originally made for a financial advisor client)"
   ]
  },
  {
   "cell_type": "code",
   "execution_count": 1,
   "id": "72a9586c",
   "metadata": {},
   "outputs": [],
   "source": [
    "import numpy as np\n",
    "import pandas as pd\n",
    "\n",
    "import requests\n",
    "from bs4 import BeautifulSoup as bs\n",
    "import re\n",
    "from IPython.display import HTML"
   ]
  },
  {
   "cell_type": "code",
   "execution_count": 2,
   "id": "724e5cfc",
   "metadata": {},
   "outputs": [],
   "source": [
    "url = 'https://www.forbes.com/lists/wealth-management-teams-best-in-state/?sh=576dedb376f2'\n",
    "req = requests.get(url)\n",
    "soup = bs(req.text, 'html.parser')   #lxml"
   ]
  },
  {
   "cell_type": "code",
   "execution_count": null,
   "id": "8181b4d6",
   "metadata": {},
   "outputs": [],
   "source": []
  },
  {
   "cell_type": "markdown",
   "id": "21e4eaa8",
   "metadata": {},
   "source": [
    "## Tags to search: \n",
    "#### organizationName , parentCompany.name, groupMembers.name, headquarters table-cell main office , qas-0 table-cell min account size, qas-1 table-cell assets under management"
   ]
  },
  {
   "cell_type": "code",
   "execution_count": 3,
   "id": "2b57a2ec",
   "metadata": {},
   "outputs": [],
   "source": [
    "href = soup.findAll('a', attrs={'class':'organizationName'})"
   ]
  },
  {
   "cell_type": "markdown",
   "id": "3747aad8",
   "metadata": {},
   "source": [
    "#### Extracting the result into a data frame with 5 columns: TEAM, FIRM, TEAM MEMBERS, MAIN OFFICE, MIN ACCOUNT SIZE"
   ]
  },
  {
   "cell_type": "code",
   "execution_count": 4,
   "id": "b5258ec7",
   "metadata": {},
   "outputs": [],
   "source": [
    "def remove_html_tags(text):\n",
    "    \"\"\"Remove html tags from a string\"\"\"\n",
    "    clean = re.compile('<.*?>')\n",
    "    return re.sub(clean, '', text)"
   ]
  },
  {
   "cell_type": "code",
   "execution_count": null,
   "id": "32ae1d72",
   "metadata": {},
   "outputs": [],
   "source": []
  },
  {
   "cell_type": "code",
   "execution_count": 5,
   "id": "336cbadc",
   "metadata": {},
   "outputs": [],
   "source": [
    "org_name = soup.findAll('div', attrs={'class':'organizationName'})\n",
    "firm = soup.findAll('div', attrs={'class':'parentCompany.name'})\n",
    "team = soup.findAll('div', attrs={'class':'groupMembers.name'})\n",
    "main_office = soup.findAll('div', attrs={'class':'headquarters table-cell main office'}) \n",
    "min_size =  soup.findAll('div', attrs={'class':'qas-0 table-cell min account size'})\n",
    "aum =  soup.findAll('div', attrs={'class':'qas-1 table-cell assets under management'})"
   ]
  },
  {
   "cell_type": "code",
   "execution_count": 6,
   "id": "0f6785ea",
   "metadata": {},
   "outputs": [],
   "source": [
    "org_name = [remove_html_tags(str(t)) for t in list(org_name)]\n",
    "firm = [remove_html_tags(str(t)) for t in list(firm)]\n",
    "team = [remove_html_tags(str(t)) for t in list(team)]\n",
    "\n",
    "main_office = [remove_html_tags(str(t)) for t in list(main_office)]\n",
    "min_size = [remove_html_tags(str(t)) for t in list(min_size)]\n",
    "aum = [remove_html_tags(str(aum)) for t in list(aum)]"
   ]
  },
  {
   "cell_type": "code",
   "execution_count": 7,
   "id": "300682fd",
   "metadata": {},
   "outputs": [],
   "source": [
    "# Initialize the organization to page link dictionary\n",
    "link_dict = {org:None for org in org_name}"
   ]
  },
  {
   "cell_type": "markdown",
   "id": "24012df9",
   "metadata": {},
   "source": [
    "#### Note: There are some entries in the table without asset under management ($ AUM) and Forbes doe not bother to put a div tag around those entries. In addition, there is no (at least to me) systematic way to detect those entries. Therefore, I decided not to include AUM in the output html file (inconsistent number of entries will throw an error) but you can access those information in the web pages via the links for each entry."
   ]
  },
  {
   "cell_type": "code",
   "execution_count": null,
   "id": "24c811df",
   "metadata": {},
   "outputs": [],
   "source": []
  },
  {
   "cell_type": "code",
   "execution_count": 8,
   "id": "298a2ce6",
   "metadata": {},
   "outputs": [],
   "source": [
    "link_tags = soup.find_all('a') # get all the a tag\n",
    "href_list = []\n",
    "\n",
    "# Forbe web pages have more hyper links with element 'aria-label' before and after the full table. Hence,\n",
    "# We have to match the number of hyperlinks with the number of organizations in the table.\n",
    "# That is why 11: len(org_name) + 11 is used here. This part is subhect to re-calibration.\n",
    "\n",
    "for tag in link_tags[11:(len(org_name)+11)]: \n",
    "    #if tag.get('aria-label') in link_dict.keys():\n",
    "    #href_list.append('<a href=\"' +str(tag.get('href')) + '\">' + str(tag.get('aria-label')) + '</a>')\n",
    "    href_list.append(str(tag.get('href')))\n"
   ]
  },
  {
   "cell_type": "code",
   "execution_count": null,
   "id": "3d7dc635",
   "metadata": {},
   "outputs": [],
   "source": []
  },
  {
   "cell_type": "code",
   "execution_count": 9,
   "id": "c53f2b1a",
   "metadata": {},
   "outputs": [],
   "source": [
    "# construct pandas data frame\n",
    "result = pd.DataFrame({'Team':org_name,'Firm':firm,'Team Member':team,'Main Office':main_office,\\\n",
    "                       'Min Account Size':min_size, 'Link':href_list})\n",
    "\n",
    "# convert to html file\n",
    "result_html = result.to_html(render_links=True,escape=False)"
   ]
  },
  {
   "cell_type": "code",
   "execution_count": 10,
   "id": "0da02634",
   "metadata": {},
   "outputs": [],
   "source": [
    "# csv version\n",
    "result.to_csv('result.csv', index=False)"
   ]
  },
  {
   "cell_type": "code",
   "execution_count": 11,
   "id": "f09e7377",
   "metadata": {},
   "outputs": [],
   "source": [
    "# output to html file\n",
    "with open('output.html','w', encoding='utf-8') as file:\n",
    "    file.write(result_html)"
   ]
  },
  {
   "cell_type": "code",
   "execution_count": null,
   "id": "c9673dd4",
   "metadata": {},
   "outputs": [],
   "source": []
  },
  {
   "cell_type": "code",
   "execution_count": null,
   "id": "4c795780",
   "metadata": {},
   "outputs": [],
   "source": []
  }
 ],
 "metadata": {
  "kernelspec": {
   "display_name": "Python 3 (ipykernel)",
   "language": "python",
   "name": "python3"
  },
  "language_info": {
   "codemirror_mode": {
    "name": "ipython",
    "version": 3
   },
   "file_extension": ".py",
   "mimetype": "text/x-python",
   "name": "python",
   "nbconvert_exporter": "python",
   "pygments_lexer": "ipython3",
   "version": "3.9.7"
  }
 },
 "nbformat": 4,
 "nbformat_minor": 5
}
