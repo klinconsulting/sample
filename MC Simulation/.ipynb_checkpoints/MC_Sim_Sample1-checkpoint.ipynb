{
 "cells": [
  {
   "cell_type": "code",
   "execution_count": 65,
   "id": "af3cee80",
   "metadata": {},
   "outputs": [],
   "source": [
    "import numpy as np\n",
    "import scipy.stats as stats"
   ]
  },
  {
   "cell_type": "markdown",
   "id": "a5125a19",
   "metadata": {},
   "source": [
    "Suppose that the customer\n",
    "arrivals from 11AM to 1PM follow a time inhomogeneous Poisson process. The arrival rate\n",
    "is time-varying and is linearly increasing between 11AM and 1PM. The arrival rate is 0.5\n",
    "per minute at 11AM and the arrival rate is 1 per minute at 1PM. Suppose that there is\n",
    "one server in the system, serving customers in a first come first serve criterion. The service\n",
    "time requirement distribution for any customer is exponentially distributed with expectation\n",
    "as 35 seconds. Use 100 simulation replications for this Deliverable and provide confidence\n",
    "intervals with 95% of confidence level."
   ]
  },
  {
   "cell_type": "markdown",
   "id": "65d4d3b9",
   "metadata": {},
   "source": [
    "### a.) Use simulation to compute the expectation of the number of customers at time 1PM."
   ]
  },
  {
   "cell_type": "code",
   "execution_count": 66,
   "id": "4550890d",
   "metadata": {},
   "outputs": [],
   "source": [
    "def arrival_rate(t):\n",
    "    \n",
    "    start_time = 660  # 11 AM in minutes\n",
    "    end_time = 780    # 1 PM in minutes\n",
    "\n",
    "    if current_time < start_time:\n",
    "        # Before 11 AM, there are no arrivals\n",
    "        return 0.0\n",
    "    elif current_time >= end_time:\n",
    "        # After 1 PM, the arrival rate remains constant at 1 per minute\n",
    "        return 1.0\n",
    "    else:\n",
    "        return 0.5 + ((t - 660) / 780) *0.5  # Linearly increasing arrival rate from 0.5 to 1"
   ]
  },
  {
   "cell_type": "code",
   "execution_count": 68,
   "id": "af444158",
   "metadata": {},
   "outputs": [
    {
     "name": "stdout",
     "output_type": "stream",
     "text": [
      "Expected number of customers at 1 PM: 45.61\n",
      "95% Confidence Interval: (44.42, 46.80)\n"
     ]
    }
   ],
   "source": [
    "# Simulation parameters\n",
    "simulations = 100\n",
    "start_time = 660  # 11 AM in minutes\n",
    "end_time = 780    # 1 PM in minutes\n",
    "\n",
    "# Initialize an array to store results from each replication\n",
    "customer_counts = []\n",
    "\n",
    "for _ in range(simulations):\n",
    "    # Generate customer arrival times\n",
    "    arrival_times = []\n",
    "    current_time = start_time\n",
    "    while current_time < end_time:\n",
    "        arrival_interval = np.random.exponential(1.0 / arrival_rate(current_time))\n",
    "        current_time += arrival_interval\n",
    "        arrival_times.append(current_time)\n",
    "\n",
    "    # Simulate customer service times\n",
    "    service_times = np.random.exponential(35, len(arrival_times))\n",
    "\n",
    "    # Calculate the number of customers at 1 PM\n",
    "    customers_at_1pm = sum((arrival_time + service_time) <= end_time for arrival_time, service_time in zip(arrival_times, service_times))\n",
    "    customer_counts.append(customers_at_1pm)\n",
    "\n",
    "# Calculate the expected number of customers at 1 PM (mean)\n",
    "expected_customers_at_1pm = np.mean(customer_counts)\n",
    "\n",
    "print(\"Expected number of customers at 1 PM:\", expected_customers_at_1pm)\n",
    "\n",
    "\n",
    "std_deviation = np.std(customer_counts, ddof=1)  # Use ddof=1 for sample standard deviation\n",
    "sample_size = len(customer_counts)\n",
    "\n",
    "# Calculate the standard error of the mean\n",
    "standard_error = std_deviation / np.sqrt(sample_size)\n",
    "\n",
    "# Set the confidence level (e.g., 95%)\n",
    "confidence_level = 0.95\n",
    "\n",
    "# Calculate the margin of error\n",
    "margin_of_error = stats.t.ppf((1 + confidence_level) / 2, sample_size - 1) * standard_error\n",
    "\n",
    "# Calculate the lower and upper bounds of the confidence interval\n",
    "lower_bound = expected_customers_at_1pm - margin_of_error\n",
    "upper_bound = expected_customers_at_1pm + margin_of_error\n",
    "\n",
    "\n",
    "# Print the confidence interval\n",
    "print(f\"95% Confidence Interval: ({lower_bound:.2f}, {upper_bound:.2f})\")"
   ]
  },
  {
   "cell_type": "code",
   "execution_count": 61,
   "id": "7426135b",
   "metadata": {},
   "outputs": [],
   "source": [
    "def simulate_waiting_time(start_time, service_rate, arrival_time, end_time):\n",
    "    total_waiting_time = 0\n",
    "    num_customers = 0\n",
    "    total_service_time = 0\n",
    "\n",
    "    while arrival_time < end_time:\n",
    "        interarrival_time = np.random.exponential(1 / arrival_rate(arrival_time))\n",
    "        arrival_time += interarrival_time\n",
    "        \n",
    "        if num_customers ==0:\n",
    "            waiting_time = 0\n",
    "        else:\n",
    "            waiting_time = max(0,  total_service_time - (arrival_time - start_time) * 60)\n",
    "        \n",
    "        service_time = np.random.exponential(1 / service_rate)\n",
    "        total_service_time+= service_time\n",
    "        total_waiting_time += waiting_time\n",
    "        num_customers += 1\n",
    "\n",
    "    # return averae wait time        \n",
    "    return total_waiting_time / num_customers if num_customers > 0 else 0"
   ]
  },
  {
   "cell_type": "markdown",
   "id": "192639f9",
   "metadata": {},
   "source": [
    "### b.) Use simulation to compute the expectation of averaged waiting time for all those customers that arrive between 12:45 PM to 1 PM."
   ]
  },
  {
   "cell_type": "code",
   "execution_count": 81,
   "id": "2e468725",
   "metadata": {},
   "outputs": [
    {
     "name": "stdout",
     "output_type": "stream",
     "text": [
      "Expectation of averaged waiting time: 6.37 seconds\n",
      "95% Confidence Interval: (5.94, 6.79)\n"
     ]
    }
   ],
   "source": [
    "# Simulate and compute average waiting time for customers arriving between 11:45 AM to 12:00 PM\n",
    "num_simulations = 100\n",
    "average_waiting_times = []\n",
    "\n",
    "for _ in range(num_simulations):\n",
    "    avg_waiting_time = simulate_waiting_time(705, 1/35, 705,720)\n",
    "    average_waiting_times.append(avg_waiting_time)\n",
    "\n",
    "average_waiting_time_expectation = np.mean(average_waiting_times)\n",
    "\n",
    "print(f\"Expectation of averaged waiting time: {average_waiting_time_expectation:.2f} seconds\")\n",
    "\n",
    "\n",
    "std_deviation = np.std(average_waiting_times, ddof=1)  # Use ddof=1 for sample standard deviation\n",
    "sample_size = len(average_waiting_times)\n",
    "\n",
    "# Calculate the standard error of the mean\n",
    "standard_error = std_deviation / np.sqrt(sample_size)\n",
    "\n",
    "# Set the confidence level (e.g., 95%)\n",
    "confidence_level = 0.95\n",
    "\n",
    "# Calculate the margin of error\n",
    "margin_of_error = stats.t.ppf((1 + confidence_level) / 2, sample_size - 1) * standard_error\n",
    "\n",
    "# Calculate the lower and upper bounds of the confidence interval\n",
    "lower_bound = average_waiting_time_expectation - margin_of_error\n",
    "upper_bound = average_waiting_time_expectation + margin_of_error\n",
    "\n",
    "# Print the confidence interval\n",
    "print(f\"95% Confidence Interval: ({lower_bound:.2f}, {upper_bound:.2f})\")"
   ]
  },
  {
   "cell_type": "markdown",
   "id": "020ee31a",
   "metadata": {},
   "source": [
    "### c.) Use simulation to compute the expectation of averaged waiting time for all those customers that arrive between 11:45 AM to 12:00 PM."
   ]
  },
  {
   "cell_type": "code",
   "execution_count": 82,
   "id": "37f20db7",
   "metadata": {},
   "outputs": [
    {
     "name": "stdout",
     "output_type": "stream",
     "text": [
      "Expectation of averaged waiting time: 6.65 seconds\n",
      "95% Confidence Interval: (6.21, 7.09)\n"
     ]
    }
   ],
   "source": [
    "# Simulate and compute average waiting time for customers arriving between 12:45 PM to 1:00 PM\n",
    "num_simulations = 100\n",
    "average_waiting_times = []\n",
    "\n",
    "for _ in range(num_simulations):\n",
    "    avg_waiting_time = simulate_waiting_time(765, 1/35, 765,780)\n",
    "    average_waiting_times.append(avg_waiting_time)\n",
    "\n",
    "average_waiting_time_expectation = np.mean(average_waiting_times)\n",
    "\n",
    "print(f\"Expectation of averaged waiting time: {average_waiting_time_expectation:.2f} seconds\")\n",
    "\n",
    "\n",
    "std_deviation = np.std(average_waiting_times, ddof=1)  # Use ddof=1 for sample standard deviation\n",
    "sample_size = len(average_waiting_times)\n",
    "\n",
    "# Calculate the standard error of the mean\n",
    "standard_error = std_deviation / np.sqrt(sample_size)\n",
    "\n",
    "# Set the confidence level (e.g., 95%)\n",
    "confidence_level = 0.95\n",
    "\n",
    "# Calculate the margin of error\n",
    "margin_of_error = stats.t.ppf((1 + confidence_level) / 2, sample_size - 1) * standard_error\n",
    "\n",
    "# Calculate the lower and upper bounds of the confidence interval\n",
    "lower_bound = average_waiting_time_expectation - margin_of_error\n",
    "upper_bound = average_waiting_time_expectation + margin_of_error\n",
    "\n",
    "# Print the confidence interval\n",
    "print(f\"95% Confidence Interval: ({lower_bound:.2f}, {upper_bound:.2f})\")"
   ]
  },
  {
   "cell_type": "code",
   "execution_count": null,
   "id": "44a3065f",
   "metadata": {},
   "outputs": [],
   "source": []
  },
  {
   "cell_type": "code",
   "execution_count": null,
   "id": "828cc55d",
   "metadata": {},
   "outputs": [],
   "source": []
  }
 ],
 "metadata": {
  "kernelspec": {
   "display_name": "Python 3 (ipykernel)",
   "language": "python",
   "name": "python3"
  },
  "language_info": {
   "codemirror_mode": {
    "name": "ipython",
    "version": 3
   },
   "file_extension": ".py",
   "mimetype": "text/x-python",
   "name": "python",
   "nbconvert_exporter": "python",
   "pygments_lexer": "ipython3",
   "version": "3.9.18"
  }
 },
 "nbformat": 4,
 "nbformat_minor": 5
}
